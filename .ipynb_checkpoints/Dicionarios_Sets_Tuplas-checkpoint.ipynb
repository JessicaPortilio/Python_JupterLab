{
 "cells": [
  {
   "cell_type": "code",
   "execution_count": 4,
   "id": "c282fecd-b23a-4361-b611-99080f316750",
   "metadata": {},
   "outputs": [
    {
     "name": "stdout",
     "output_type": "stream",
     "text": [
      "{'João': 6.0, 'Maria': 8.0, 'Pedro': 6.5}\n"
     ]
    }
   ],
   "source": [
    "#Dicionários: estrutura chave/valor\n",
    "Notas = {\"João\" : 6.0, \"Maria\" : 8.0, \"Pedro\": 6.5}\n",
    "print(Notas)"
   ]
  },
  {
   "cell_type": "code",
   "execution_count": 5,
   "id": "aea75d5e-ef9e-4817-bc03-bf0703ce9755",
   "metadata": {},
   "outputs": [
    {
     "name": "stdout",
     "output_type": "stream",
     "text": [
      "6.0\n"
     ]
    }
   ],
   "source": [
    "print(Notas['João'])"
   ]
  },
  {
   "cell_type": "code",
   "execution_count": 6,
   "id": "435a2ffc-db3e-4a6e-a85d-1afcba4cccd5",
   "metadata": {},
   "outputs": [
    {
     "data": {
      "text/plain": [
       "dict_keys(['João', 'Maria', 'Pedro'])"
      ]
     },
     "execution_count": 6,
     "metadata": {},
     "output_type": "execute_result"
    }
   ],
   "source": [
    "#Todas as chaves\n",
    "Notas.keys()"
   ]
  },
  {
   "cell_type": "code",
   "execution_count": 7,
   "id": "d21d1fec-afba-4da6-8c7f-8628b84cd075",
   "metadata": {},
   "outputs": [
    {
     "data": {
      "text/plain": [
       "dict_values([6.0, 8.0, 6.5])"
      ]
     },
     "execution_count": 7,
     "metadata": {},
     "output_type": "execute_result"
    }
   ],
   "source": [
    "#Todos os valores\n",
    "Notas.values()"
   ]
  },
  {
   "cell_type": "code",
   "execution_count": 8,
   "id": "dd9d5a47-c056-49bf-8eef-f0c880c88323",
   "metadata": {},
   "outputs": [
    {
     "name": "stdout",
     "output_type": "stream",
     "text": [
      "True\n",
      "False\n"
     ]
    }
   ],
   "source": [
    "#Testa Logicamente a existência\n",
    "print('João' in Notas)\n",
    "print('Fernando' in Notas)"
   ]
  },
  {
   "cell_type": "code",
   "execution_count": 9,
   "id": "81da48d5-e8a1-47c4-b075-cbed863bc72b",
   "metadata": {},
   "outputs": [
    {
     "name": "stdout",
     "output_type": "stream",
     "text": [
      "{'Maria': 8.0, 'Pedro': 6.5}\n"
     ]
    }
   ],
   "source": [
    "#apaga um elemento\n",
    "del Notas['João']\n",
    "print(Notas)"
   ]
  },
  {
   "cell_type": "code",
   "execution_count": 10,
   "id": "701eaf02-28d7-4d2e-be81-69c0fe4bd45c",
   "metadata": {},
   "outputs": [
    {
     "name": "stdout",
     "output_type": "stream",
     "text": [
      "{'Maria': 8.0, 'Pedro': 6.5, 'Ana': 9}\n"
     ]
    }
   ],
   "source": [
    "#inclui um elemento\n",
    "Notas['Ana'] = 9\n",
    "print(Notas)"
   ]
  },
  {
   "cell_type": "code",
   "execution_count": 13,
   "id": "0f843b89-b158-467c-ab16-87c4d911d8da",
   "metadata": {},
   "outputs": [
    {
     "data": {
      "text/plain": [
       "'Não encontrado'"
      ]
     },
     "execution_count": 13,
     "metadata": {},
     "output_type": "execute_result"
    }
   ],
   "source": [
    "#busca um valor, se não encontrar mostra segundo parametro\n",
    "Notas.get('Geraldo','Não encontrado')"
   ]
  },
  {
   "cell_type": "code",
   "execution_count": 14,
   "id": "766b5351-935f-46a4-8715-01cbdfc75ab3",
   "metadata": {},
   "outputs": [
    {
     "name": "stdout",
     "output_type": "stream",
     "text": [
      "{'Sqoop', 'Hive', 'Spark'}\n"
     ]
    }
   ],
   "source": [
    "#sets são conjuntos não ordenados de elementos não repetidos\n",
    "bigdata = {'Spark', 'Hive', \"Sqoop\"}\n",
    "print(bigdata)"
   ]
  },
  {
   "cell_type": "code",
   "execution_count": 16,
   "id": "97db38c3-ff8c-463b-87a6-d4b26d84f079",
   "metadata": {},
   "outputs": [
    {
     "name": "stdout",
     "output_type": "stream",
     "text": [
      "True\n"
     ]
    }
   ],
   "source": [
    "#verifica existência\n",
    "print('Spark' in bigdata)"
   ]
  },
  {
   "cell_type": "code",
   "execution_count": 17,
   "id": "d98939d3-7314-4e79-ab29-472e52a25f60",
   "metadata": {},
   "outputs": [
    {
     "data": {
      "text/plain": [
       "{'Hadoop', 'Hive', 'Spark', 'Sqoop'}"
      ]
     },
     "execution_count": 17,
     "metadata": {},
     "output_type": "execute_result"
    }
   ],
   "source": [
    "#adiciono elemento\n",
    "bigdata.add('Hadoop')\n",
    "bigdata"
   ]
  },
  {
   "cell_type": "code",
   "execution_count": 18,
   "id": "39c6e7a3-68aa-4660-af6f-0aba8a9b253d",
   "metadata": {},
   "outputs": [
    {
     "name": "stdout",
     "output_type": "stream",
     "text": [
      "4\n"
     ]
    }
   ],
   "source": [
    "#número de elementoss\n",
    "print(len(bigdata))"
   ]
  },
  {
   "cell_type": "code",
   "execution_count": 19,
   "id": "97e73369-ec8d-4e30-94f8-ec37cc359f03",
   "metadata": {},
   "outputs": [
    {
     "data": {
      "text/plain": [
       "{'Hadoop', 'Hive', 'Spark', 'Sqoop'}"
      ]
     },
     "execution_count": 19,
     "metadata": {},
     "output_type": "execute_result"
    }
   ],
   "source": [
    "bigdata.add(\"Spark\")\n",
    "bigdata"
   ]
  },
  {
   "cell_type": "code",
   "execution_count": 20,
   "id": "1c904437-a03d-428c-86a4-3e19a484d6db",
   "metadata": {},
   "outputs": [
    {
     "data": {
      "text/plain": [
       "(1, 2, 3, 4, 5, 6, 7)"
      ]
     },
     "execution_count": 20,
     "metadata": {},
     "output_type": "execute_result"
    }
   ],
   "source": [
    "#tuplas são listas que não podem ser alteradas\n",
    "#listas usam [], tuplas usam ()\n",
    "tupla = (1,2,3,4,5,6,7)\n",
    "tupla"
   ]
  },
  {
   "cell_type": "code",
   "execution_count": 21,
   "id": "a2029d6c-a7fc-4899-b55d-b49487ff815e",
   "metadata": {},
   "outputs": [
    {
     "data": {
      "text/plain": [
       "5"
      ]
     },
     "execution_count": 21,
     "metadata": {},
     "output_type": "execute_result"
    }
   ],
   "source": [
    "tupla[4]"
   ]
  },
  {
   "cell_type": "code",
   "execution_count": 22,
   "id": "8b407503-94e5-45ba-9284-6698963cf15f",
   "metadata": {},
   "outputs": [
    {
     "data": {
      "text/plain": [
       "{(0, 1): 0,\n",
       " (1, 2): 1,\n",
       " (2, 3): 2,\n",
       " (3, 4): 3,\n",
       " (4, 5): 4,\n",
       " (5, 6): 5,\n",
       " (6, 7): 6,\n",
       " (7, 8): 7,\n",
       " (8, 9): 8,\n",
       " (9, 10): 9}"
      ]
     },
     "execution_count": 22,
     "metadata": {},
     "output_type": "execute_result"
    }
   ],
   "source": [
    "#dicionários em que cada posição recebe uma tupla\n",
    "dic2 = {(0,1):0,(1,2):1,(2,3):2,(3,4):3,(4,5):4,(5,6):5,(6,7):6,(7,8):7,(8,9):8,(9,10):9}\n",
    "dic2"
   ]
  },
  {
   "cell_type": "code",
   "execution_count": 23,
   "id": "e95d00c2-949f-46fd-8bd5-dc68b2aa4d49",
   "metadata": {},
   "outputs": [
    {
     "name": "stdout",
     "output_type": "stream",
     "text": [
      "<class 'dict'>\n",
      "<class 'set'>\n",
      "<class 'tuple'>\n"
     ]
    }
   ],
   "source": [
    "print(type(Notas))\n",
    "print(type(bigdata))\n",
    "print(type(tupla))"
   ]
  },
  {
   "cell_type": "code",
   "execution_count": null,
   "id": "bc97efd0-b722-4f7e-ac67-bfca69162cce",
   "metadata": {},
   "outputs": [],
   "source": []
  }
 ],
 "metadata": {
  "kernelspec": {
   "display_name": "Python 3 (ipykernel)",
   "language": "python",
   "name": "python3"
  },
  "language_info": {
   "codemirror_mode": {
    "name": "ipython",
    "version": 3
   },
   "file_extension": ".py",
   "mimetype": "text/x-python",
   "name": "python",
   "nbconvert_exporter": "python",
   "pygments_lexer": "ipython3",
   "version": "3.9.7"
  }
 },
 "nbformat": 4,
 "nbformat_minor": 5
}
