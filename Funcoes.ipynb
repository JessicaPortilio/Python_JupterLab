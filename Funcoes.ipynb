{
 "cells": [
  {
   "cell_type": "code",
   "execution_count": 1,
   "id": "59a66c9a-0540-4f72-80b6-25c8d0f8c7ea",
   "metadata": {},
   "outputs": [
    {
     "name": "stdout",
     "output_type": "stream",
     "text": [
      "Está é uma função\n"
     ]
    }
   ],
   "source": [
    "def imprime():\n",
    "    print('Está é uma função')\n",
    "imprime()"
   ]
  },
  {
   "cell_type": "code",
   "execution_count": 4,
   "id": "51ea355d-b4a8-40e7-a253-f44900d458c5",
   "metadata": {},
   "outputs": [
    {
     "name": "stdout",
     "output_type": "stream",
     "text": [
      "Impressão deste texto\n"
     ]
    }
   ],
   "source": [
    "# com parametro\n",
    "def imprime(n):\n",
    "    print(n)\n",
    "imprime(\"Impressão deste texto\")"
   ]
  },
  {
   "cell_type": "code",
   "execution_count": 5,
   "id": "5821703c-d607-43dd-b2af-5e5c6cb314f3",
   "metadata": {},
   "outputs": [
    {
     "name": "stdout",
     "output_type": "stream",
     "text": [
      "9\n"
     ]
    }
   ],
   "source": [
    "# com retorno\n",
    "def pontencia(n):\n",
    "    return n*n\n",
    "x = pontencia(3)\n",
    "print(x)"
   ]
  },
  {
   "cell_type": "code",
   "execution_count": 7,
   "id": "b830f474-1a71-4aea-85f9-24e58b1e6e99",
   "metadata": {},
   "outputs": [
    {
     "name": "stdout",
     "output_type": "stream",
     "text": [
      "1\n",
      "2\n",
      "3\n",
      "4\n",
      "5\n",
      "6\n",
      "7\n",
      "8\n",
      "9\n",
      "10\n",
      "1\n",
      "2\n",
      "3\n",
      "4\n",
      "5\n",
      "6\n",
      "7\n",
      "8\n",
      "9\n",
      "10\n"
     ]
    }
   ],
   "source": [
    "# com valor default\n",
    "def intervalo(inic=1, fim=10):\n",
    "    for inic in range(1, fim+1):\n",
    "        print(inic)\n",
    "x =intervalo(1, 10)\n",
    "y = intervalo()"
   ]
  },
  {
   "cell_type": "code",
   "execution_count": null,
   "id": "b15f979f-4477-4326-9546-a21c58a93812",
   "metadata": {},
   "outputs": [],
   "source": []
  }
 ],
 "metadata": {
  "kernelspec": {
   "display_name": "Python 3 (ipykernel)",
   "language": "python",
   "name": "python3"
  },
  "language_info": {
   "codemirror_mode": {
    "name": "ipython",
    "version": 3
   },
   "file_extension": ".py",
   "mimetype": "text/x-python",
   "name": "python",
   "nbconvert_exporter": "python",
   "pygments_lexer": "ipython3",
   "version": "3.9.7"
  }
 },
 "nbformat": 4,
 "nbformat_minor": 5
}
