{
 "cells": [
  {
   "cell_type": "code",
   "execution_count": 2,
   "id": "ea470e09-ef1f-4c1d-a7bc-dd683a813649",
   "metadata": {},
   "outputs": [
    {
     "name": "stdout",
     "output_type": "stream",
     "text": [
      "200\n",
      "Maior Valor 45\n",
      "Menor Valor 1\n",
      "Soma 108\n",
      "Arredondamento:  2.35\n"
     ]
    }
   ],
   "source": [
    "# funções internas\n",
    "print(abs(-200))\n",
    "lst = [1,2,30,30,45]\n",
    "print(\"Maior Valor\", max(lst))\n",
    "print(\"Menor Valor\", min(lst))\n",
    "print(\"Soma\", sum(lst))\n",
    "print(\"Arredondamento: \", round(2.34567,2))"
   ]
  },
  {
   "cell_type": "code",
   "execution_count": 6,
   "id": "b261c3f9-6063-4615-bf25-3dc1c74049a3",
   "metadata": {},
   "outputs": [
    {
     "name": "stdout",
     "output_type": "stream",
     "text": [
      "Média:  21.6\n",
      "Mediana:  30\n",
      "Moda:  30\n"
     ]
    }
   ],
   "source": [
    "# statistica\n",
    "from statistics import *\n",
    "print(\"Média: \", mean(lst))\n",
    "print(\"Mediana: \", median(lst))\n",
    "print(\"Moda: \", mode(lst))"
   ]
  },
  {
   "cell_type": "code",
   "execution_count": null,
   "id": "6bdee135-5c02-4fe4-90c5-597a61d4fb2c",
   "metadata": {},
   "outputs": [],
   "source": [
    "# desvio padrão de amostra\n",
    "print(\"Desvio padrão: \",)"
   ]
  }
 ],
 "metadata": {
  "kernelspec": {
   "display_name": "Python 3 (ipykernel)",
   "language": "python",
   "name": "python3"
  },
  "language_info": {
   "codemirror_mode": {
    "name": "ipython",
    "version": 3
   },
   "file_extension": ".py",
   "mimetype": "text/x-python",
   "name": "python",
   "nbconvert_exporter": "python",
   "pygments_lexer": "ipython3",
   "version": "3.9.7"
  }
 },
 "nbformat": 4,
 "nbformat_minor": 5
}
