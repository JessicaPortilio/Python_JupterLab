{
 "cells": [
  {
   "cell_type": "code",
   "execution_count": 2,
   "id": "ea470e09-ef1f-4c1d-a7bc-dd683a813649",
   "metadata": {},
   "outputs": [
    {
     "name": "stdout",
     "output_type": "stream",
     "text": [
      "200\n",
      "Maior Valor 45\n",
      "Menor Valor 1\n",
      "Soma 108\n",
      "Arredondamento:  2.35\n"
     ]
    }
   ],
   "source": [
    "# funções internas\n",
    "print(abs(-200))\n",
    "lst = [1,2,30,30,45]\n",
    "print(\"Maior Valor\", max(lst))\n",
    "print(\"Menor Valor\", min(lst))\n",
    "print(\"Soma\", sum(lst))\n",
    "print(\"Arredondamento: \", round(2.34567,2))"
   ]
  },
  {
   "cell_type": "code",
   "execution_count": 6,
   "id": "b261c3f9-6063-4615-bf25-3dc1c74049a3",
   "metadata": {},
   "outputs": [
    {
     "name": "stdout",
     "output_type": "stream",
     "text": [
      "Média:  21.6\n",
      "Mediana:  30\n",
      "Moda:  30\n"
     ]
    }
   ],
   "source": [
    "# statistica\n",
    "from statistics import *\n",
    "print(\"Média: \", mean(lst))\n",
    "print(\"Mediana: \", median(lst))\n",
    "print(\"Moda: \", mode(lst))"
   ]
  },
  {
   "cell_type": "code",
   "execution_count": 7,
   "id": "6bdee135-5c02-4fe4-90c5-597a61d4fb2c",
   "metadata": {},
   "outputs": [
    {
     "name": "stdout",
     "output_type": "stream",
     "text": [
      "Desvio padrão:  19.346834366376324\n"
     ]
    }
   ],
   "source": [
    "# desvio padrão de amostra\n",
    "print(\"Desvio padrão: \", stdev(lst))"
   ]
  },
  {
   "cell_type": "code",
   "execution_count": 8,
   "id": "3a6b1949-2145-4da1-a27c-9bd6bbc06503",
   "metadata": {},
   "outputs": [
    {
     "name": "stdout",
     "output_type": "stream",
     "text": [
      "Variância:  374.3\n"
     ]
    }
   ],
   "source": [
    "# variancia da amostra\n",
    "print(\"Variância: \", variance(lst))"
   ]
  },
  {
   "cell_type": "code",
   "execution_count": 9,
   "id": "d60ecfab-5389-4cac-ba68-b193024fb130",
   "metadata": {},
   "outputs": [
    {
     "name": "stdout",
     "output_type": "stream",
     "text": [
      "<class 'numpy.ndarray'>\n",
      "[[0.18636828 0.96262741 0.06288654 0.76024379 0.59739565 0.55705989\n",
      "  0.99115867 0.03538435]\n",
      " [0.10378918 0.1076106  0.30763372 0.40486115 0.95653106 0.55403566\n",
      "  0.69144119 0.33943672]\n",
      " [0.3429606  0.18754331 0.0316869  0.73316482 0.86592476 0.41902683\n",
      "  0.38295803 0.17558291]\n",
      " [0.05278254 0.50995451 0.32400598 0.96483614 0.46574279 0.13251844\n",
      "  0.29279187 0.77930867]\n",
      " [0.58371683 0.64922135 0.5836221  0.75892546 0.85102151 0.04856657\n",
      "  0.82583457 0.27919628]\n",
      " [0.44329331 0.16348214 0.97951584 0.97434397 0.88728304 0.68112468\n",
      "  0.3466465  0.55461047]\n",
      " [0.57327652 0.31335657 0.92623503 0.61275501 0.04235841 0.59431682\n",
      "  0.15807422 0.70965821]\n",
      " [0.01179668 0.19024306 0.09023615 0.64702547 0.83075528 0.42337923\n",
      "  0.26399674 0.40349489]]\n"
     ]
    }
   ],
   "source": [
    "from numpy import *\n",
    "a = random.random((8,8))\n",
    "print(type(a))\n",
    "print(a)"
   ]
  },
  {
   "cell_type": "code",
   "execution_count": null,
   "id": "d15385f8-364e-45cc-86ed-2366cb4a1205",
   "metadata": {},
   "outputs": [],
   "source": []
  }
 ],
 "metadata": {
  "kernelspec": {
   "display_name": "Python 3 (ipykernel)",
   "language": "python",
   "name": "python3"
  },
  "language_info": {
   "codemirror_mode": {
    "name": "ipython",
    "version": 3
   },
   "file_extension": ".py",
   "mimetype": "text/x-python",
   "name": "python",
   "nbconvert_exporter": "python",
   "pygments_lexer": "ipython3",
   "version": "3.9.7"
  }
 },
 "nbformat": 4,
 "nbformat_minor": 5
}
