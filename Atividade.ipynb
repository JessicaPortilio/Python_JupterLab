{
 "cells": [
  {
   "cell_type": "code",
   "execution_count": 33,
   "id": "82701181-97d6-4144-af91-c9f9e43a0b79",
   "metadata": {},
   "outputs": [
    {
     "name": "stdout",
     "output_type": "stream",
     "text": [
      "Amplitude:  10\n"
     ]
    }
   ],
   "source": [
    "# 1. Faça um programa que tenha uma função chamada amplitude.\n",
    "# A função deve receber uma lista e imprimir a amplitude.\n",
    "# Crie também um código para testar sua função\n",
    "import numpy as np\n",
    "def amplitude(n):\n",
    "    print(\"Amplitude: \", n.max() - n.min())\n",
    "lista = np.array([1,2,3,4,11,5,6,7,8,9])\n",
    "amplitude(lista)"
   ]
  },
  {
   "cell_type": "code",
   "execution_count": 23,
   "id": "5711ca99-bb9e-4d93-a668-335d58f16a4b",
   "metadata": {},
   "outputs": [
    {
     "name": "stdout",
     "output_type": "stream",
     "text": [
      "P\n",
      "Y\n",
      "T\n",
      "H\n",
      "O\n",
      "N\n"
     ]
    }
   ],
   "source": [
    "# 2. Faça uma função que receba uma string e imprima está string na vertical\n",
    "# Por exemplo:\n",
    "# P\n",
    "# Y\n",
    "# T\n",
    "# H\n",
    "# O\n",
    "# N\n",
    "# Dica: uma String do python funciona como uma lista!\n",
    "# Crie também um código para teste sua função\n",
    "x = \"PYTHON\"\n",
    "for n in x:\n",
    "    print(n)"
   ]
  },
  {
   "cell_type": "code",
   "execution_count": 8,
   "id": "6163a7a8-c23c-43f3-b324-fab9ed99064e",
   "metadata": {},
   "outputs": [],
   "source": [
    "# 3. Crie um programa que leia o peso de uma carga em números inteiros.\n",
    "# Se o peso for até 10kg, informe que o valor será de R$ 50,00.\n",
    "# Entre 11 e 20kg, informe que o valor será de R$80.\n",
    "# Se for maior que 20 informe que o transporte não é aceito. Teste vários pesos"
   ]
  },
  {
   "cell_type": "code",
   "execution_count": 32,
   "id": "ba2f4701-e0fd-4271-9c9c-322ae619e3e9",
   "metadata": {},
   "outputs": [
    {
     "name": "stdin",
     "output_type": "stream",
     "text": [
      "Qual valor do peso da carga?  80\n"
     ]
    },
    {
     "name": "stdout",
     "output_type": "stream",
     "text": [
      "O transporte não é aceito\n"
     ]
    }
   ],
   "source": [
    "peso = int(input(\"Qual valor do peso da carga? \"))\n",
    "if peso <= 10:\n",
    "    print(\"Valor será de R$50,00!\")\n",
    "elif peso > 10 and peso <= 20:\n",
    "    print(\"O valor será de R$80\")\n",
    "else:\n",
    "    print(\"O transporte não é aceito\")"
   ]
  },
  {
   "cell_type": "code",
   "execution_count": null,
   "id": "2fa2af10-4578-46ea-9912-c8c119a53749",
   "metadata": {},
   "outputs": [],
   "source": []
  }
 ],
 "metadata": {
  "kernelspec": {
   "display_name": "Python 3 (ipykernel)",
   "language": "python",
   "name": "python3"
  },
  "language_info": {
   "codemirror_mode": {
    "name": "ipython",
    "version": 3
   },
   "file_extension": ".py",
   "mimetype": "text/x-python",
   "name": "python",
   "nbconvert_exporter": "python",
   "pygments_lexer": "ipython3",
   "version": "3.9.7"
  }
 },
 "nbformat": 4,
 "nbformat_minor": 5
}
